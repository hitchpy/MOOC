{
 "metadata": {
  "name": "",
  "signature": "sha256:190ca74335b352807f2ab54789a6dc35fa6e8d7c5bf5db1b44bf74672e1da739"
 },
 "nbformat": 3,
 "nbformat_minor": 0,
 "worksheets": [
  {
   "cells": [
    {
     "cell_type": "markdown",
     "metadata": {},
     "source": [
      "# Towers of Hanoi solution using a recursive function -- with animation\n",
      "\n",
      "For a general description of the game, see <http://en.wikipedia.org/wiki/Tower_of_Hanoi>.\n",
      "\n",
      "Requires JSAnimation and JSAnimation_frametools.\n",
      "\n",
      "See <http://faculty.washington.edu/rjl/classes/am583s2014/notes/animation.html>.\n",
      "\n"
     ]
    },
    {
     "cell_type": "code",
     "collapsed": false,
     "input": [
      "%pylab inline"
     ],
     "language": "python",
     "metadata": {},
     "outputs": []
    },
    {
     "cell_type": "code",
     "collapsed": false,
     "input": [
      "from JSAnimation import IPython_display\n",
      "import JSAnimation_frametools as J"
     ],
     "language": "python",
     "metadata": {},
     "outputs": []
    },
    {
     "cell_type": "code",
     "collapsed": false,
     "input": [
      "def plot_disk(j,n,peg,position):\n",
      "    \"\"\"\n",
      "    plot disk number j out of n (j=1 is the smallest, j=n the largest)\n",
      "    also specify which peg (1,2, or 3) to plot it on, and its position.\n",
      "    position=1 means it is on the base, position=2 is on top of one other disk, etc.\n",
      "    \"\"\"\n",
      "    width = j/float(n)  # actually the half-width of the jth disk\n",
      "    height = 1./float(n)  # so n of them fit between 0 and 1 in y-direction\n",
      "    xpeg = 1 + 2.5*(peg-1)  # location of this peg (they are at x = 1, 3.5, 7)\n",
      "    x = [xpeg-width, xpeg+width, xpeg+width, xpeg-width, xpeg-width]\n",
      "    y0 = (position-1)*height\n",
      "    y = [y0, y0, y0+height, y0+height, y0]\n",
      "    fill(x,y,'r')  # fill in a rectangle with red, specified by the 5 (x,y) points\n",
      "    \n",
      "def plot_pegs(n):\n",
      "    plot([0,7],[0,0],'k',linewidth=3)\n",
      "    plot([1,1],[0,1.2],'k',linewidth=3)\n",
      "    plot([3.5,3.5],[0,1.2],'k',linewidth=3)\n",
      "    plot([6,6],[0,1.2],'k',linewidth=3)\n",
      "    axis([0,7,0,1.5])\n",
      "    "
     ],
     "language": "python",
     "metadata": {},
     "outputs": []
    },
    {
     "cell_type": "markdown",
     "metadata": {},
     "source": [
      "Create an empty directory to store png files for each frame, and define the function to plot the configuration at each step:"
     ]
    },
    {
     "cell_type": "code",
     "collapsed": false,
     "input": [
      "plotdir = '_plots'  # to store png files for each figure\n",
      "J.make_plotdir(plotdir, clobber=True)  # ok to clobber if it already exists\n",
      "\n",
      "def plot_all_disks(n,peg,frameno):\n",
      "    plot_pegs(n)\n",
      "    for i in [1,2,3]:\n",
      "        disks = peg[i]\n",
      "        for j,disk in enumerate(disks):\n",
      "            plot_disk(disk,n,i,len(disks)-j)\n",
      "    J.save_frame(frameno,plotdir,verbose=True)\n",
      "    next_frameno = frameno+1\n",
      "    return next_frameno\n"
     ],
     "language": "python",
     "metadata": {},
     "outputs": []
    },
    {
     "cell_type": "code",
     "collapsed": false,
     "input": [
      "\n",
      "n = 4\n",
      "peg = {}\n",
      "peg[1] = range(1,n+1)\n",
      "peg[2] = []\n",
      "peg[3] = []\n",
      "\n",
      "print \"Initial configuration:\"\n",
      "frameno = plot_all_disks(n,peg,frameno=0)\n",
      "show()\n",
      "        \n",
      "def move_disks2(itop, ibottom, from_peg, to_peg, frameno):\n",
      "    if itop > ibottom:\n",
      "        raise InputError(\"Require itop <= ibottom, got itop = %i, ibottom = %i\" %(itop,ibottom))\n",
      "    if itop==ibottom:\n",
      "        print \"Move Disk %i from Peg %i to Peg %i\" % (itop, from_peg, to_peg)\n",
      "        peg[from_peg] = peg[from_peg][1:]   # drop first element of list\n",
      "        peg[to_peg] = [itop] + peg[to_peg]  # add as first element of list\n",
      "        figure()\n",
      "        frameno = plot_all_disks(n,peg,frameno)\n",
      "        show()\n",
      "\n",
      "    else:\n",
      "        other_peg = 6 - from_peg - to_peg\n",
      "        # recursive call:\n",
      "        frameno = move_disks2(itop, ibottom-1, from_peg, other_peg, frameno)\n",
      "        frameno = move_disks2(ibottom, ibottom, from_peg, to_peg, frameno)\n",
      "        frameno = move_disks2(itop, ibottom-1, other_peg, to_peg, frameno)\n",
      "    return frameno\n",
      "        \n",
      "frameno = move_disks2(1,n,1,3, frameno=1)"
     ],
     "language": "python",
     "metadata": {},
     "outputs": []
    },
    {
     "cell_type": "code",
     "collapsed": false,
     "input": [
      "anim = J.make_anim(plotdir)\n",
      "anim"
     ],
     "language": "python",
     "metadata": {},
     "outputs": []
    },
    {
     "cell_type": "markdown",
     "metadata": {},
     "source": [
      "## You can also make a stand-alone html file:"
     ]
    },
    {
     "cell_type": "code",
     "collapsed": false,
     "input": [
      "J.make_html(anim, file_name=\"Towers.html\", title=\"Towers of Hanoi\")"
     ],
     "language": "python",
     "metadata": {},
     "outputs": []
    },
    {
     "cell_type": "markdown",
     "metadata": {},
     "source": [
      "<_plots/frame0000.png>"
     ]
    }
   ],
   "metadata": {}
  }
 ]
}